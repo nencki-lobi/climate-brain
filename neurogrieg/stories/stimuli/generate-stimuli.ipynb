{
 "cells": [
  {
   "cell_type": "code",
   "execution_count": 1,
   "id": "2773cb9a",
   "metadata": {},
   "outputs": [],
   "source": [
    "# Import dependencies\n",
    "\n",
    "import random\n",
    "import numpy as np\n",
    "import pandas as pd\n",
    "\n",
    "# Set seeds for reproducibility\n",
    "\n",
    "random.seed(2487)\n",
    "np.random.seed(2137)"
   ]
  },
  {
   "cell_type": "code",
   "execution_count": 2,
   "id": "631b719b",
   "metadata": {},
   "outputs": [],
   "source": [
    "# Choose participant group\n",
    "\n",
    "group = 'NEU'"
   ]
  },
  {
   "cell_type": "code",
   "execution_count": 3,
   "id": "b002f354",
   "metadata": {},
   "outputs": [],
   "source": [
    "# Story codes\n",
    "\n",
    "# For testing\n",
    "# ANG = np.array(['ANG1', 'ANG2', 'ANG3', 'ANG4', 'ANG5', 'ANG6', 'ANG7', 'ANG8', 'ANG9', 'ANG10', 'ANG11', 'ANG12'])\n",
    "# HOP = np.array(['HOP1', 'HOP2', 'HOP3', 'HOP4', 'HOP5', 'HOP6', 'HOP7', 'HOP8', 'HOP9', 'HOP10', 'HOP11', 'HOP12'])\n",
    "# NEU = np.array(['NEU1', 'NEU2', 'NEU3', 'NEU4', 'NEU5', 'NEU6', 'NEU7', 'NEU8', 'NEU9', 'NEU10', 'NEU11', 'NEU12'])\n",
    "# CON = np.array(['NEU13', 'NEU14', 'NEU15', 'NEU16', 'NEU17', 'NEU18', 'NEU19', 'NEU20', 'NEU21', 'NEU22', 'NEU23', 'NEU24'])\n",
    "\n",
    "# For real\n",
    "ANG = np.array(['ANG8', 'ANG20', 'ANG17', 'ANG30', 'ANG25', 'ANG6', 'ANG9', 'ANG1', 'ANG12', 'ANG3', 'ANG21', 'ANG7'])\n",
    "HOP = np.array(['HOP23', 'HOP15', 'HOP27', 'HOP13', 'HOP17', 'HOP26', 'HOP5', 'HOP11', 'HOP19', 'HOP7', 'HOP22', 'HOP16'])\n",
    "NEU = np.array(['NEU14', 'NEU30', 'NEU9', 'NEU15', 'NEU1', 'NEU21', 'NEU29', 'NEU23', 'NEU6', 'NEU12', 'NEU24', 'NEU11'])\n",
    "CON = np.array(['NEU26', 'NEU16', 'NEU4', 'NEU25', 'NEU3', 'NEU18', 'NEU10', 'NEU22', 'NEU17', 'NEU27', 'NEU2', 'NEU5'])\n",
    "\n",
    "training = np.array(['NEU7', 'NEU19', 'NEU20', 'NEU13'])"
   ]
  },
  {
   "cell_type": "code",
   "execution_count": 4,
   "id": "4e650dbc",
   "metadata": {},
   "outputs": [
    {
     "data": {
      "text/html": [
       "<div>\n",
       "<style scoped>\n",
       "    .dataframe tbody tr th:only-of-type {\n",
       "        vertical-align: middle;\n",
       "    }\n",
       "\n",
       "    .dataframe tbody tr th {\n",
       "        vertical-align: top;\n",
       "    }\n",
       "\n",
       "    .dataframe thead th {\n",
       "        text-align: right;\n",
       "    }\n",
       "</style>\n",
       "<table border=\"1\" class=\"dataframe\">\n",
       "  <thead>\n",
       "    <tr style=\"text-align: right;\">\n",
       "      <th></th>\n",
       "      <th>PL</th>\n",
       "      <th>EN</th>\n",
       "      <th>NO</th>\n",
       "      <th>code</th>\n",
       "    </tr>\n",
       "  </thead>\n",
       "  <tbody>\n",
       "    <tr>\n",
       "      <th>ANX1</th>\n",
       "      <td>Karolina spogląda za okno. Z nieba leje się ża...</td>\n",
       "      <td>Caroline looks out the window. Heat is pouring...</td>\n",
       "      <td>Siv ser ut av vinduet. Det er stekende solskin...</td>\n",
       "      <td>ANX1</td>\n",
       "    </tr>\n",
       "    <tr>\n",
       "      <th>ANX2</th>\n",
       "      <td>Rafał zauważył, że tegoroczna wiosna była wyra...</td>\n",
       "      <td>Ralph noticed that last spring was quite unusu...</td>\n",
       "      <td>Haakon la merke til at denne våren var veldig ...</td>\n",
       "      <td>ANX2</td>\n",
       "    </tr>\n",
       "    <tr>\n",
       "      <th>ANX3</th>\n",
       "      <td>Tomasz przeczytał w internecie, że tempo wymie...</td>\n",
       "      <td>Thomas read on the Internet that the current r...</td>\n",
       "      <td>Viktor leste på internett at utryddelsen av ar...</td>\n",
       "      <td>ANX3</td>\n",
       "    </tr>\n",
       "    <tr>\n",
       "      <th>ANX4</th>\n",
       "      <td>Spacerując po parku Paulina zauważyła, że wiel...</td>\n",
       "      <td>While walking in the park, Melanie noticed tha...</td>\n",
       "      <td>På en tur i parken la Randi merke til at mange...</td>\n",
       "      <td>ANX4</td>\n",
       "    </tr>\n",
       "    <tr>\n",
       "      <th>ANX5</th>\n",
       "      <td>W miejscowości Piotra wichury zniszczyły kilka...</td>\n",
       "      <td>In the town where Peter lives, storms destroye...</td>\n",
       "      <td>I byen der Halvor bor, har stormen ødelagt mer...</td>\n",
       "      <td>ANX5</td>\n",
       "    </tr>\n",
       "  </tbody>\n",
       "</table>\n",
       "</div>"
      ],
      "text/plain": [
       "                                                     PL  \\\n",
       "ANX1  Karolina spogląda za okno. Z nieba leje się ża...   \n",
       "ANX2  Rafał zauważył, że tegoroczna wiosna była wyra...   \n",
       "ANX3  Tomasz przeczytał w internecie, że tempo wymie...   \n",
       "ANX4  Spacerując po parku Paulina zauważyła, że wiel...   \n",
       "ANX5  W miejscowości Piotra wichury zniszczyły kilka...   \n",
       "\n",
       "                                                     EN  \\\n",
       "ANX1  Caroline looks out the window. Heat is pouring...   \n",
       "ANX2  Ralph noticed that last spring was quite unusu...   \n",
       "ANX3  Thomas read on the Internet that the current r...   \n",
       "ANX4  While walking in the park, Melanie noticed tha...   \n",
       "ANX5  In the town where Peter lives, storms destroye...   \n",
       "\n",
       "                                                     NO  code  \n",
       "ANX1  Siv ser ut av vinduet. Det er stekende solskin...  ANX1  \n",
       "ANX2  Haakon la merke til at denne våren var veldig ...  ANX2  \n",
       "ANX3  Viktor leste på internett at utryddelsen av ar...  ANX3  \n",
       "ANX4  På en tur i parken la Randi merke til at mange...  ANX4  \n",
       "ANX5  I byen der Halvor bor, har stormen ødelagt mer...  ANX5  "
      ]
     },
     "execution_count": 4,
     "metadata": {},
     "output_type": "execute_result"
    }
   ],
   "source": [
    "# Load ECCS stories\n",
    "\n",
    "url = 'https://raw.githubusercontent.com/nencki-lobi/ECCS/main/ECCS-stories.tsv'\n",
    "ECCS = pd.read_csv(url, sep = '\\t', header = None, names = ['PL', 'EN', 'NO', 'code'])\n",
    "ECCS = ECCS.set_index('code', drop = False).rename_axis(None)\n",
    "\n",
    "ECCS.head()"
   ]
  },
  {
   "cell_type": "code",
   "execution_count": 5,
   "id": "0b5b6804",
   "metadata": {},
   "outputs": [],
   "source": [
    "# Example use\n",
    "\n",
    "# list = ['HOP2', 'HOP4', 'HOP1']\n",
    "# ECCS.loc[ list, ['PL','code'] ]"
   ]
  },
  {
   "cell_type": "code",
   "execution_count": 6,
   "id": "d44bd7ac",
   "metadata": {},
   "outputs": [],
   "source": [
    "# We use ANG, HOP or NEU as experimental stimuli, whereas CON as control stimuli\n",
    "\n",
    "match group:\n",
    "    case 'ANG':\n",
    "        EXP = ANG\n",
    "    case 'HOP':\n",
    "        EXP = HOP\n",
    "    case 'NEU':\n",
    "        EXP = NEU\n",
    "    case other:\n",
    "        print('No match found!')"
   ]
  },
  {
   "cell_type": "code",
   "execution_count": 7,
   "id": "dcdf1e20",
   "metadata": {},
   "outputs": [],
   "source": [
    "# Shuffle story codes\n",
    "\n",
    "random.shuffle(EXP)\n",
    "random.shuffle(CON)\n",
    "\n",
    "random.shuffle(training)"
   ]
  },
  {
   "cell_type": "code",
   "execution_count": 8,
   "id": "1967406a",
   "metadata": {},
   "outputs": [
    {
     "name": "stdout",
     "output_type": "stream",
     "text": [
      "[3, 5, 4, 2, 7, 1, 0, 6]\n",
      "['NEU24' 'NEU5' 'NEU3' 'NEU6' 'NEU2' 'NEU12' 'NEU30' 'NEU22']\n",
      "[7, 3, 2, 5, 4, 0, 6, 1]\n",
      "['NEU16' 'NEU14' 'NEU15' 'NEU26' 'NEU25' 'NEU29' 'NEU4' 'NEU21']\n",
      "[5, 2, 6, 7, 3, 4, 1, 0]\n",
      "['NEU17' 'NEU1' 'NEU27' 'NEU10' 'NEU11' 'NEU18' 'NEU23' 'NEU9']\n"
     ]
    }
   ],
   "source": [
    "# Split into 3 runs (same proportion of EXP and CON, but different order)\n",
    "\n",
    "EXP_chunked = np.array_split(EXP, 3)\n",
    "CON_chunked = np.array_split(CON, 3)\n",
    "\n",
    "order = list(range(8))\n",
    "\n",
    "runs = [[], [], []]\n",
    "\n",
    "for i, r in enumerate(runs):\n",
    "    random.shuffle(order)\n",
    "    print(order)\n",
    "    run = np.append(EXP_chunked[i], CON_chunked[i])\n",
    "    runs[i] = run[order]\n",
    "    print(runs[i])"
   ]
  },
  {
   "cell_type": "code",
   "execution_count": 9,
   "id": "9cc156b3",
   "metadata": {},
   "outputs": [],
   "source": [
    "#jitter = [5000, 6000, 7000]\n",
    "jitter = [5000, 5250, 5500, 5750, 6000, 6250, 6500, 6750, 7000]"
   ]
  },
  {
   "cell_type": "code",
   "execution_count": 10,
   "id": "23951175",
   "metadata": {},
   "outputs": [],
   "source": [
    "# Generate final stimuli files for fMRI study\n",
    "\n",
    "for i, r in enumerate(runs):\n",
    "    out = ECCS.loc[ r, ['PL','code'] ]\n",
    "    out['jitter'] = np.random.choice(jitter, 8, replace = True)\n",
    "    \n",
    "    run = 'R' + str(i+1)\n",
    "    fname = 'stories_' + run + '_' + group + '.txt'\n",
    "    out.to_csv(fname, sep = \"\\t\", header = None, index = False) \n",
    "\n",
    "tout = ECCS.loc[ training, ['PL','code'] ]\n",
    "tout['jitter'] = np.random.choice(jitter, 4, replace = True)\n",
    "fname = 'stories_training.txt'\n",
    "tout.to_csv(fname, sep = \"\\t\", header = None, index = False) "
   ]
  }
 ],
 "metadata": {
  "kernelspec": {
   "display_name": "Python 3 (ipykernel)",
   "language": "python",
   "name": "python3"
  },
  "language_info": {
   "codemirror_mode": {
    "name": "ipython",
    "version": 3
   },
   "file_extension": ".py",
   "mimetype": "text/x-python",
   "name": "python",
   "nbconvert_exporter": "python",
   "pygments_lexer": "ipython3",
   "version": "3.12.0"
  }
 },
 "nbformat": 4,
 "nbformat_minor": 5
}
