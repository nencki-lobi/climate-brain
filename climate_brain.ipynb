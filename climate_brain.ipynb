{
 "cells": [
  {
   "cell_type": "code",
   "execution_count": null,
   "id": "7dd53ead",
   "metadata": {},
   "outputs": [],
   "source": [
    "import nilearn\n",
    "from nilearn import image\n",
    "from nilearn import plotting\n",
    "\n",
    "import matplotlib.pyplot as plt\n",
    "import matplotlib.colors as colors\n",
    "from matplotlib.colors import LinearSegmentedColormap\n",
    "\n",
    "import numpy as np\n",
    "import os"
   ]
  },
  {
   "cell_type": "code",
   "execution_count": null,
   "id": "48fea9a1",
   "metadata": {},
   "outputs": [],
   "source": [
    "# Aesthetics\n",
    "\n",
    "plt.rcParams.update({'font.size': 20})  "
   ]
  },
  {
   "cell_type": "code",
   "execution_count": null,
   "id": "b22989be-faf0-4378-b5d4-bd746198c4c0",
   "metadata": {},
   "outputs": [],
   "source": [
    "# Define function\n",
    "\n",
    "def plotmebrains(nii, xyz, figname):\n",
    "    \n",
    "    p = plt.figure(figsize=(9, 3))\n",
    "    template = nilearn.datasets.load_mni152_template(resolution=1)\n",
    "\n",
    "    display = plotting.plot_stat_map(nii,\n",
    "                                     figure=p,\n",
    "                                     bg_img=template,\n",
    "                                     black_bg= False,\n",
    "                                     cmap='hot',\n",
    "                                     colorbar=True,\n",
    "                                     cut_coords=xyz,\n",
    "                                     draw_cross=False)\n",
    "    colorbar = display._cbar\n",
    "    colorbar.ax.tick_params(labelsize=8)  # Change tick label size\n",
    "    colorbar.ax.yaxis.label.set_size(8) \n",
    "    \n",
    "    plt.savefig(figname, dpi=300, transparent=False)"
   ]
  },
  {
   "cell_type": "code",
   "execution_count": null,
   "id": "0be961b9-3fef-49f7-b258-fe6d9bdb05cf",
   "metadata": {},
   "outputs": [],
   "source": [
    "# Set paths\n",
    "\n",
    "workdir = os.environ['HOME']\n",
    "basedir = os.path.join(workdir, 'climate-brain') # git repo location\n",
    "bidsdir = os.path.join(workdir, 'ds005460') # BIDS dataset location\n",
    "\n",
    "figdir = os.path.join(basedir, 'output/nilearn') # figs location\n",
    "os.makedirs(figdir, exist_ok=True)"
   ]
  },
  {
   "cell_type": "code",
   "execution_count": null,
   "id": "0d66557c-3ac7-4421-9a95-2ebc386f2f14",
   "metadata": {},
   "outputs": [],
   "source": [
    "# stories ANG\n",
    "\n",
    "ANG_nii = bidsdir + '/results/stories-2-model-ttest_ANG/spmT_0001_FWE.nii'\n",
    "ANG_fig = figdir + '/stories_ANG.png'\n",
    "plotmebrains(ANG_nii, (-19, -6, -18), ANG_fig)"
   ]
  },
  {
   "cell_type": "code",
   "execution_count": null,
   "id": "eec7c03b-0584-4d11-ab72-3acc6a91bdf2",
   "metadata": {},
   "outputs": [],
   "source": [
    "# stories HOP\n",
    "\n",
    "HOP_nii = bidsdir + '/results/stories-2-model-ttest_HOP/spmT_0001_FWE.nii'\n",
    "HOP_fig = figdir + '/stories_HOP.png'\n",
    "plotmebrains(HOP_nii, (-19, -6, -18), HOP_fig)"
   ]
  },
  {
   "cell_type": "code",
   "execution_count": null,
   "id": "9c40464a-af92-4ad7-8aae-f5a91d69b4d9",
   "metadata": {},
   "outputs": [],
   "source": [
    "# stories NEU\n",
    "\n",
    "NEU_nii = bidsdir + '/results/stories-2-model-ttest_NEU/spmT_0001_FWE.nii'\n",
    "NEU_fig = figdir + '/stories_NEU.png'\n",
    "plotmebrains(NEU_nii, (-19, -6, -18), NEU_fig)"
   ]
  },
  {
   "cell_type": "code",
   "execution_count": null,
   "id": "69396670-1c29-46be-a2c8-aa8908f00b05",
   "metadata": {},
   "outputs": [],
   "source": [
    "# CET\n",
    "\n",
    "CET_nii = bidsdir + '/results/cet-2-model/spmT_0001_FWE.nii'\n",
    "CET_fig = figdir + '/CET.png'\n",
    "plotmebrains(CET_nii, (-6, 26, 37), CET_fig)"
   ]
  }
 ],
 "metadata": {
  "kernelspec": {
   "display_name": "Python 3 (ipykernel)",
   "language": "python",
   "name": "python3"
  },
  "language_info": {
   "codemirror_mode": {
    "name": "ipython",
    "version": 3
   },
   "file_extension": ".py",
   "mimetype": "text/x-python",
   "name": "python",
   "nbconvert_exporter": "python",
   "pygments_lexer": "ipython3",
   "version": "3.11.4"
  }
 },
 "nbformat": 4,
 "nbformat_minor": 5
}
